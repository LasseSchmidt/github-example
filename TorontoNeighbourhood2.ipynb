{
 "cells": [
  {
   "cell_type": "markdown",
   "metadata": {},
   "source": [
    "# Segmenting and Clustering Neighborhoods in Toronto 2"
   ]
  },
  {
   "cell_type": "markdown",
   "metadata": {},
   "source": [
    "Now load the csv file with locations and join with the postal code table"
   ]
  },
  {
   "cell_type": "code",
   "execution_count": 2,
   "metadata": {},
   "outputs": [
    {
     "name": "stdout",
     "output_type": "stream",
     "text": [
      "  PostalCode      Borough                            Neighborhood   Latitude  \\\n",
      "0        M1B  Scarborough                          Rouge, Malvern  43.806686   \n",
      "1        M1C  Scarborough  Highland Creek, Rouge Hill, Port Union  43.784535   \n",
      "2        M1E  Scarborough       Guildwood, Morningside, West Hill  43.763573   \n",
      "3        M1G  Scarborough                                  Woburn  43.770992   \n",
      "4        M1H  Scarborough                               Cedarbrae  43.773136   \n",
      "\n",
      "   Longitude  \n",
      "0 -79.194353  \n",
      "1 -79.160497  \n",
      "2 -79.188711  \n",
      "3 -79.216917  \n",
      "4 -79.239476  \n"
     ]
    }
   ],
   "source": [
    "import pandas\n",
    "\n",
    "postCodes = pandas.read_csv(\"postcodes.csv\")\n",
    "locations = pandas.read_csv(\"Geospatial_Coordinates.csv\")\n",
    "postCodes_new = postCodes.set_index('PostalCode').join(locations.set_index('Postal Code')).reset_index()\n",
    "postCodes_new.to_csv(\"postcodes_new.csv\", index=False)\n",
    "print(postCodes_new.head())"
   ]
  },
  {
   "cell_type": "code",
   "execution_count": null,
   "metadata": {},
   "outputs": [],
   "source": []
  }
 ],
 "metadata": {
  "kernelspec": {
   "display_name": "Python 3",
   "language": "python",
   "name": "python3"
  },
  "language_info": {
   "codemirror_mode": {
    "name": "ipython",
    "version": 3
   },
   "file_extension": ".py",
   "mimetype": "text/x-python",
   "name": "python",
   "nbconvert_exporter": "python",
   "pygments_lexer": "ipython3",
   "version": "3.7.0"
  }
 },
 "nbformat": 4,
 "nbformat_minor": 2
}
