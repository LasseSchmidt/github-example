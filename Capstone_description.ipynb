{
 "cells": [
  {
   "cell_type": "markdown",
   "metadata": {},
   "source": [
    "# My Capstone Project\n",
    "## Visual correlation between religious distribution and cultural venues\n",
    "\n"
   ]
  },
  {
   "cell_type": "markdown",
   "metadata": {},
   "source": [
    "### 1. Introduction\n",
    "\n",
    "In this project I want to discover if there is a visual correlation of the distribution of the major religions across all countries in the world and the occurrence of different kind of venues in each countries capital. \n",
    "\n",
    "In my opinion there should be strong differences in the kind of venues in different parts of the world. This should be strongly affected by cultural aspects. Since the religious distribution and also the absence of religion should have an impact on the culture, I want to look at the mutual influence between these factors.\n"
   ]
  },
  {
   "cell_type": "markdown",
   "metadata": {},
   "source": [
    "### 2. Data\n",
    "\n",
    "In order to get a deep insight into the cultural characteristics of each country I want to look at the venues in each coutries capital. For this I grab the 100 most important venues in a 5km range around the capital city centre from Foursquare (www.foursquare.com). I will then extract the venue category from the results.\n",
    "\n",
    "For the comparision with religious distribution I will extract the data from https://en.wikipedia.org/wiki/Religions_by_country. The data will be cleaned and only the countries, their populations and each religion percentage will be selected.\n",
    "\n",
    "In order to translate each country from the wikipedia page to its capital and the according world coordinates I used a csv file from http://techslides.com/list-of-countries-and-capitals.\n",
    "\n"
   ]
  },
  {
   "cell_type": "markdown",
   "metadata": {},
   "source": [
    "### 3. Methodology"
   ]
  },
  {
   "cell_type": "markdown",
   "metadata": {},
   "source": [
    "### 4. Results"
   ]
  },
  {
   "cell_type": "markdown",
   "metadata": {},
   "source": [
    "### 5. Discussion"
   ]
  },
  {
   "cell_type": "markdown",
   "metadata": {},
   "source": [
    "### 6. Conclusion"
   ]
  },
  {
   "cell_type": "code",
   "execution_count": null,
   "metadata": {},
   "outputs": [],
   "source": []
  }
 ],
 "metadata": {
  "kernelspec": {
   "display_name": "Python 3",
   "language": "python",
   "name": "python3"
  },
  "language_info": {
   "codemirror_mode": {
    "name": "ipython",
    "version": 3
   },
   "file_extension": ".py",
   "mimetype": "text/x-python",
   "name": "python",
   "nbconvert_exporter": "python",
   "pygments_lexer": "ipython3",
   "version": "3.7.3"
  }
 },
 "nbformat": 4,
 "nbformat_minor": 2
}
