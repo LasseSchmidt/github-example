{
 "cells": [
  {
   "cell_type": "markdown",
   "metadata": {},
   "source": [
    "# My Capstone Project\n",
    "## Visual correlation between religious distribution and cultural venues\n",
    "\n"
   ]
  },
  {
   "cell_type": "markdown",
   "metadata": {},
   "source": [
    "### 1. Introduction\n",
    "\n",
    "In this project I want to discover if there is a visual correlation of the distribution of the major religions across all countries in the world and the occurrence of different kind of venues in each countries capital. \n",
    "\n",
    "In my opinion there should be strong differences in the kind of venues in different parts of the world. This should be strongly affected by cultural aspects. Since the religious distribution and also the absence of religion should have an impact on the culture, I want to look at the mutual influence between these factors.\n"
   ]
  },
  {
   "cell_type": "markdown",
   "metadata": {},
   "source": [
    "### 2. Data\n",
    "\n",
    "In order to get a deep insight into the cultural characteristics of each country I want to look at the venues in each coutries capital. For this I grab the 100 most important venues in a 5km range around the capital city centre from Foursquare (www.foursquare.com). I will then extract the venue category from the results.\n",
    "\n",
    "For the comparision with religious distribution I will extract the data from https://en.wikipedia.org/wiki/Religions_by_country. The data will be cleaned and only the countries, their populations and each religion percentage will be selected.\n",
    "\n",
    "An example row would look like this:\n",
    "\n",
    "Country\t| Population\t| Christian\t| Muslim\t| Irreligion\t| Hindu\t| Buddhist\t| Folk religion\t| Other religion\t| Jewish\n",
    "--- | --- | --- | --- | --- | --- | --- | --- | --- | ---\n",
    " Angola\t| 19,080,000\t| 90.50\t| 0.20\t| 5.10\t| 0.00\t| 0.00\t| 4.20\t| 0.00\t| 0.00\n",
    "\n",
    "In order to translate each country from the wikipedia page to its capital and the according world coordinates I used a csv file from http://techslides.com/list-of-countries-and-capitals.\n",
    "\n",
    "Here an example looks like this:\n",
    "\n",
    "Country Name\t| Capital Name\t| Capital Latitude\t| Capital Longitude\t| Country Code\t| Continent Name\n",
    "--- | --- | --- | --- | --- | --- \n",
    "Angola\t| Luanda\t| -8.833333333\t| 13.216667\t| AO\t| Africa\n"
   ]
  },
  {
   "cell_type": "markdown",
   "metadata": {},
   "source": [
    "### 3. Methodology\n",
    "\n",
    "My methodology can be separated in two steps:\n",
    "\n",
    "1. Grab the data about religious distributions and create maps that show the number of people belonging to each group. The maps should enable the viewer to get a clear impression of the density distribution over the world. In order to reach this goal I create circle markers located on each capital and adjust the size of the markers according to the square root of the number of people in that group. This way the area of a marker is proportional to the number of people.\n",
    "\n",
    "2. Make a function call to the foursquare API for each capital. The function returns the 100 most important venues in the range of 5km around the city centre. The mean distributions for all venue categories are then calculated. These distributions are clustered in 7 different clusters with the kmeans algorithm. The clustered capitals are then plotted in a folium with circle markers and marker sizes according to the square root of number of peoples living in the corresponding country. \n",
    "\n",
    "By comparision of the different folium maps I want to see if there is a correlation between religious distribution and cultural distribution of venues in capitals."
   ]
  },
  {
   "cell_type": "markdown",
   "metadata": {},
   "source": [
    "### 4. Results\n",
    "\n",
    "The results for religious distribution show very distinct features. \n",
    "\n",
    "Members of the christian religion are distributed all over the world, but a bit more concentrated on northern and southern areas of the world. The muslim religion is more distributed at central regions like middle east, southern asia and northern afrika. The hindu religion is located almost only in india and the buddhist religion can be found in eastern asia.\n",
    "Non-religious people are also distributed over the world with slightly higher occurences in europe and high occurences in eastern asia with china as the highest member.\n",
    "\n",
    "The clustering by cultural venues shows results that are in some aspects very similar to religious distributions, but in some quite different. The biggest cluster (1, red) seems to overlap strongly with christian and hindu religions. The next cluster (2, green) seems to span over east asia and southern afrika and thus overlap with buddhism and christianity.\n",
    "\n",
    "The next clusters are much smaller and span areas on american islands (3, blue), northern africa (4, pink) and middle east (5, light blue). Especially clusters 4 and 5 seem to overlap with muslim religion. "
   ]
  },
  {
   "cell_type": "markdown",
   "metadata": {},
   "source": [
    "### 5. Discussion\n",
    "\n",
    "In the results one could see strong overlap between religious distributions and cultural venue clusters. However there are also differences, since countries with similar religions can have great cultural differences because of geographical distances and other factors.\n",
    "\n",
    "But still the religion seems to be a strong influence factor to cultural properties. Customers that want to open new venues are strongly adviced to look at religious distributions and how that affects the likelihoof of success of a certain type of venue.\n",
    "\n",
    "In a next step one could try to build a model to predict the chance of success for different kind of venues depending on certain influence factors. These factors can include the mentioned religious aspects, geographical parameters (like continent and average weather) and historical data of successful venues."
   ]
  },
  {
   "cell_type": "markdown",
   "metadata": {},
   "source": [
    "### 6. Conclusion\n",
    "\n",
    "I compared the distribution of religions across the world with the distributions of successful cultural venues in the capitals of all countries. I created visually appealing folium maps that enable viewers to immediately understand the information. The maps show strong overlap between the two factors and should advice future business owners to look at religious distributions as an important influence factor for venue success."
   ]
  }
 ],
 "metadata": {
  "kernelspec": {
   "display_name": "Python 3",
   "language": "python",
   "name": "python3"
  },
  "language_info": {
   "codemirror_mode": {
    "name": "ipython",
    "version": 3
   },
   "file_extension": ".py",
   "mimetype": "text/x-python",
   "name": "python",
   "nbconvert_exporter": "python",
   "pygments_lexer": "ipython3",
   "version": "3.7.3"
  }
 },
 "nbformat": 4,
 "nbformat_minor": 2
}
