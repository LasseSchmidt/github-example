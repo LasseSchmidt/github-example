{
 "cells": [
  {
   "cell_type": "markdown",
   "metadata": {},
   "source": [
    "# Segmenting and Clustering Neighborhoods in Toronto\n",
    "\n",
    "Import all libraries"
   ]
  },
  {
   "cell_type": "code",
   "execution_count": 84,
   "metadata": {},
   "outputs": [],
   "source": [
    "from bs4 import BeautifulSoup\n",
    "import pandas\n",
    "import requests"
   ]
  },
  {
   "cell_type": "markdown",
   "metadata": {},
   "source": [
    "Get the html of the requested page with request"
   ]
  },
  {
   "cell_type": "code",
   "execution_count": 85,
   "metadata": {},
   "outputs": [],
   "source": [
    "page = requests.get(\"https://en.wikipedia.org/wiki/List_of_postal_codes_of_Canada:_M\")"
   ]
  },
  {
   "cell_type": "markdown",
   "metadata": {},
   "source": [
    "Create an empty dataframe for the final table"
   ]
  },
  {
   "cell_type": "code",
   "execution_count": 86,
   "metadata": {},
   "outputs": [],
   "source": [
    "postCodes = pandas.DataFrame(columns=[\"PostalCode\", \"Borough\", \"Neighborhood\"])"
   ]
  },
  {
   "cell_type": "markdown",
   "metadata": {},
   "source": [
    "Extract the wanted information from the html with BeautifulSoup"
   ]
  },
  {
   "cell_type": "code",
   "execution_count": 87,
   "metadata": {},
   "outputs": [],
   "source": [
    "soup = BeautifulSoup(page.content, 'html.parser')\n",
    "\n",
    "# Extract the table\n",
    "postTable = soup.find('table', class_='wikitable sortable')\n",
    "# Extract all table rows\n",
    "trs = postTable.find_all('tr')\n",
    "\n",
    "# Loop over rows without the header\n",
    "for i in trs[1:]:\n",
    "    # Extract all row elements\n",
    "    tds = i.find_all('td')\n",
    "    elements = []\n",
    "    for j in tds:\n",
    "        # Check if there is a hyperlink in the element\n",
    "        resolve_link = j.find_all('a')\n",
    "        if len(resolve_link)>0:\n",
    "            elements.append(resolve_link[0].get_text().rstrip())\n",
    "        else:\n",
    "            elements.append(j.get_text().rstrip())\n",
    "    \n",
    "    # Skip row if Borough not assigned\n",
    "    if elements[1] == \"Not assigned\":\n",
    "        continue\n",
    "    # Copy Borough name to Neighborhood if Neighborhood not assigned\n",
    "    if elements[2] == \"Not assigned\":\n",
    "        elements[2] = elements[1]\n",
    "        \n",
    "    # Append the table row to the dataframe\n",
    "    postCodes.loc[len(postCodes) + 1] = elements\n"
   ]
  },
  {
   "cell_type": "markdown",
   "metadata": {},
   "source": [
    "Now aggregate the dataframe by grouping of the postal codes and join the Neighborhood by comma"
   ]
  },
  {
   "cell_type": "code",
   "execution_count": 88,
   "metadata": {},
   "outputs": [],
   "source": [
    "postCodes = postCodes.groupby([\"PostalCode\"]).agg({\"Borough\": \"first\", \"Neighborhood\": \", \".join}).reset_index()"
   ]
  },
  {
   "cell_type": "code",
   "execution_count": 89,
   "metadata": {},
   "outputs": [
    {
     "name": "stdout",
     "output_type": "stream",
     "text": [
      "Final table has shape:  (103, 3)\n"
     ]
    }
   ],
   "source": [
    "print(\"Final table has shape: \", postCodes.shape)"
   ]
  },
  {
   "cell_type": "code",
   "execution_count": null,
   "metadata": {},
   "outputs": [],
   "source": []
  }
 ],
 "metadata": {
  "kernelspec": {
   "display_name": "Python 3",
   "language": "python",
   "name": "python3"
  },
  "language_info": {
   "codemirror_mode": {
    "name": "ipython",
    "version": 3
   },
   "file_extension": ".py",
   "mimetype": "text/x-python",
   "name": "python",
   "nbconvert_exporter": "python",
   "pygments_lexer": "ipython3",
   "version": "3.7.0"
  }
 },
 "nbformat": 4,
 "nbformat_minor": 2
}
